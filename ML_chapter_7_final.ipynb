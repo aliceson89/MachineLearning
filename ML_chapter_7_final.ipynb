{
  "nbformat": 4,
  "nbformat_minor": 0,
  "metadata": {
    "colab": {
      "name": "ML_chapter_7_final.ipynb",
      "provenance": [],
      "collapsed_sections": [],
      "include_colab_link": true
    },
    "kernelspec": {
      "name": "python3",
      "display_name": "Python 3"
    }
  },
  "cells": [
    {
      "cell_type": "markdown",
      "metadata": {
        "id": "view-in-github",
        "colab_type": "text"
      },
      "source": [
        "<a href=\"https://colab.research.google.com/github/aliceson89/MachineLearning/blob/main/ML_chapter_7_final.ipynb\" target=\"_parent\"><img src=\"https://colab.research.google.com/assets/colab-badge.svg\" alt=\"Open In Colab\"/></a>"
      ]
    },
    {
      "cell_type": "markdown",
      "metadata": {
        "id": "TX-KpnPrO2MT"
      },
      "source": [
        "# **제7강 머신러닝으로 분류하기(1)**"
      ]
    },
    {
      "cell_type": "markdown",
      "metadata": {
        "id": "_Ct5LOkcPCgy"
      },
      "source": [
        "# **3. k-NN 알고리즘 활용 실습**"
      ]
    },
    {
      "cell_type": "markdown",
      "metadata": {
        "id": "t6UGFib_TIZZ"
      },
      "source": [
        "**라이브러리 import**"
      ]
    },
    {
      "cell_type": "code",
      "metadata": {
        "id": "oIK-m69RWGfy"
      },
      "source": [
        "import pandas as pd\n",
        "import numpy as np"
      ],
      "execution_count": null,
      "outputs": []
    },
    {
      "cell_type": "code",
      "metadata": {
        "id": "daaaMD-NVkIJ"
      },
      "source": [
        "# 데이터를 수집합니다\n",
        "df = pd.read_csv(\"https://raw.githubusercontent.com/wikibook/machine-learning/2.0/data/csv/basketball_stat.csv\") # padnas를 통해 csv 파일 로드"
      ],
      "execution_count": null,
      "outputs": []
    },
    {
      "cell_type": "code",
      "metadata": {
        "id": "FFMc2cfsVnJc",
        "colab": {
          "base_uri": "https://localhost:8080/",
          "height": 198
        },
        "outputId": "d3605d2b-72f4-4546-f25e-cb859a679413"
      },
      "source": [
        "df.head() # df의 상단부 데이터 반환"
      ],
      "execution_count": null,
      "outputs": [
        {
          "output_type": "execute_result",
          "data": {
            "text/html": [
              "<div>\n",
              "<style scoped>\n",
              "    .dataframe tbody tr th:only-of-type {\n",
              "        vertical-align: middle;\n",
              "    }\n",
              "\n",
              "    .dataframe tbody tr th {\n",
              "        vertical-align: top;\n",
              "    }\n",
              "\n",
              "    .dataframe thead th {\n",
              "        text-align: right;\n",
              "    }\n",
              "</style>\n",
              "<table border=\"1\" class=\"dataframe\">\n",
              "  <thead>\n",
              "    <tr style=\"text-align: right;\">\n",
              "      <th></th>\n",
              "      <th>Player</th>\n",
              "      <th>Pos</th>\n",
              "      <th>3P</th>\n",
              "      <th>2P</th>\n",
              "      <th>TRB</th>\n",
              "      <th>AST</th>\n",
              "      <th>STL</th>\n",
              "      <th>BLK</th>\n",
              "    </tr>\n",
              "  </thead>\n",
              "  <tbody>\n",
              "    <tr>\n",
              "      <th>0</th>\n",
              "      <td>Alex Abrines</td>\n",
              "      <td>SG</td>\n",
              "      <td>1.4</td>\n",
              "      <td>0.6</td>\n",
              "      <td>1.3</td>\n",
              "      <td>0.6</td>\n",
              "      <td>0.5</td>\n",
              "      <td>0.1</td>\n",
              "    </tr>\n",
              "    <tr>\n",
              "      <th>1</th>\n",
              "      <td>Steven Adams</td>\n",
              "      <td>C</td>\n",
              "      <td>0.0</td>\n",
              "      <td>4.7</td>\n",
              "      <td>7.7</td>\n",
              "      <td>1.1</td>\n",
              "      <td>1.1</td>\n",
              "      <td>1.0</td>\n",
              "    </tr>\n",
              "    <tr>\n",
              "      <th>2</th>\n",
              "      <td>Alexis Ajinca</td>\n",
              "      <td>C</td>\n",
              "      <td>0.0</td>\n",
              "      <td>2.3</td>\n",
              "      <td>4.5</td>\n",
              "      <td>0.3</td>\n",
              "      <td>0.5</td>\n",
              "      <td>0.6</td>\n",
              "    </tr>\n",
              "    <tr>\n",
              "      <th>3</th>\n",
              "      <td>Chris Andersen</td>\n",
              "      <td>C</td>\n",
              "      <td>0.0</td>\n",
              "      <td>0.8</td>\n",
              "      <td>2.6</td>\n",
              "      <td>0.4</td>\n",
              "      <td>0.4</td>\n",
              "      <td>0.6</td>\n",
              "    </tr>\n",
              "    <tr>\n",
              "      <th>4</th>\n",
              "      <td>Will Barton</td>\n",
              "      <td>SG</td>\n",
              "      <td>1.5</td>\n",
              "      <td>3.5</td>\n",
              "      <td>4.3</td>\n",
              "      <td>3.4</td>\n",
              "      <td>0.8</td>\n",
              "      <td>0.5</td>\n",
              "    </tr>\n",
              "  </tbody>\n",
              "</table>\n",
              "</div>"
            ],
            "text/plain": [
              "           Player Pos   3P   2P  TRB  AST  STL  BLK\n",
              "0    Alex Abrines  SG  1.4  0.6  1.3  0.6  0.5  0.1\n",
              "1    Steven Adams   C  0.0  4.7  7.7  1.1  1.1  1.0\n",
              "2   Alexis Ajinca   C  0.0  2.3  4.5  0.3  0.5  0.6\n",
              "3  Chris Andersen   C  0.0  0.8  2.6  0.4  0.4  0.6\n",
              "4     Will Barton  SG  1.5  3.5  4.3  3.4  0.8  0.5"
            ]
          },
          "metadata": {
            "tags": []
          },
          "execution_count": 37
        }
      ]
    },
    {
      "cell_type": "code",
      "metadata": {
        "id": "oxhOMT6vV3_Y",
        "colab": {
          "base_uri": "https://localhost:8080/"
        },
        "outputId": "0d90b946-967a-401a-e753-14a92127262d"
      },
      "source": [
        "df.Pos.value_counts() # df에서 Pos 데이터에서 유일한 값을 집계하여 반환"
      ],
      "execution_count": null,
      "outputs": [
        {
          "output_type": "execute_result",
          "data": {
            "text/plain": [
              "C     50\n",
              "SG    50\n",
              "Name: Pos, dtype: int64"
            ]
          },
          "metadata": {
            "tags": []
          },
          "execution_count": 38
        }
      ]
    },
    {
      "cell_type": "markdown",
      "metadata": {
        "id": "WHIEe-LoeewY"
      },
      "source": [
        "**데이터 시각화**"
      ]
    },
    {
      "cell_type": "markdown",
      "metadata": {
        "id": "25TY-7SsZ7bo"
      },
      "source": [
        "**스틸, 2점슛 데이터 시각화**"
      ]
    },
    {
      "cell_type": "code",
      "metadata": {
        "id": "BjKeNf3cei-K",
        "colab": {
          "base_uri": "https://localhost:8080/",
          "height": 457
        },
        "outputId": "b4481d35-59f8-421d-f4da-da45ef11b546"
      },
      "source": [
        "import matplotlib.pyplot as plt\n",
        "import seaborn as sns\n",
        "\n",
        "sns.lmplot('STL', '2P', data=df, fit_reg=False,  # x 축, y 축, 데이터, 라인 없음\n",
        "           scatter_kws={\"s\": 150}, # 좌표 상의 점의 크기\n",
        "           markers=[\"o\", \"x\"], # 그래프에 표기되는 point markers 모양 설정\n",
        "           hue=\"Pos\") # 예측값"
      ],
      "execution_count": null,
      "outputs": [
        {
          "output_type": "stream",
          "text": [
            "/usr/local/lib/python3.6/dist-packages/seaborn/_decorators.py:43: FutureWarning: Pass the following variables as keyword args: x, y. From version 0.12, the only valid positional argument will be `data`, and passing other arguments without an explicit keyword will result in an error or misinterpretation.\n",
            "  FutureWarning\n"
          ],
          "name": "stderr"
        },
        {
          "output_type": "execute_result",
          "data": {
            "text/plain": [
              "<seaborn.axisgrid.FacetGrid at 0x7f2dc7eada90>"
            ]
          },
          "metadata": {
            "tags": []
          },
          "execution_count": 39
        },
        {
          "output_type": "display_data",
          "data": {
            "image/png": "[encoded data removed]",
            "text/plain": [
              "<Figure size 410x360 with 1 Axes>"
            ]
          },
          "metadata": {
            "tags": [],
            "needs_background": "light"
          }
        }
      ]
    },
    {
      "cell_type": "markdown",
      "metadata": {
        "id": "i1Uxvtd0Z4Lo"
      },
      "source": [
        "**블로킹, 3점슛 데이터 시각화**"
      ]
    },
    {
      "cell_type": "code",
      "metadata": {
        "id": "bQ0oFWpVZzJm",
        "colab": {
          "base_uri": "https://localhost:8080/",
          "height": 457
        },
        "outputId": "6987cd7d-4342-4990-ccee-fca261d187d8"
      },
      "source": [
        "sns.lmplot('BLK', '3P', data=df, fit_reg=False,  # x 축, y 축, 데이터, 라인 없음\n",
        "           scatter_kws={\"s\": 150}, # 좌표 상의 점의 크기\n",
        "           markers=[\"o\", \"x\"], # 그래프에 표기되는 point markers 모양 설정\n",
        "           hue=\"Pos\") # 예측값"
      ],
      "execution_count": null,
      "outputs": [
        {
          "output_type": "stream",
          "text": [
            "/usr/local/lib/python3.6/dist-packages/seaborn/_decorators.py:43: FutureWarning: Pass the following variables as keyword args: x, y. From version 0.12, the only valid positional argument will be `data`, and passing other arguments without an explicit keyword will result in an error or misinterpretation.\n",
            "  FutureWarning\n"
          ],
          "name": "stderr"
        },
        {
          "output_type": "execute_result",
          "data": {
            "text/plain": [
              "<seaborn.axisgrid.FacetGrid at 0x7f2dc7e1fe48>"
            ]
          },
          "metadata": {
            "tags": []
          },
          "execution_count": 40
        },
        {
          "output_type": "display_data",
          "data": {
            "image/png": "[encoded data removed]",
            "text/plain": [
              "<Figure size 410x360 with 1 Axes>"
            ]
          },
          "metadata": {
            "tags": [],
            "needs_background": "light"
          }
        }
      ]
    },
    {
      "cell_type": "markdown",
      "metadata": {
        "id": "CG2dGuOFabF8"
      },
      "source": [
        "**리바운드, 3점슛 데이터 시각화**"
      ]
    },
    {
      "cell_type": "code",
      "metadata": {
        "id": "J8YZqcy2aSTc",
        "colab": {
          "base_uri": "https://localhost:8080/",
          "height": 457
        },
        "outputId": "99599784-2c06-4873-b6ea-e4be114eb37a"
      },
      "source": [
        "sns.lmplot('TRB', '3P', data=df, fit_reg=False,  # x 축, y 축, 데이터, 라인 없음\n",
        "           scatter_kws={\"s\": 150}, # 좌표 상의 점의 크기\n",
        "           markers=[\"o\", \"x\"], # 그래프에 표기되는 point markers 모양 설정\n",
        "           hue=\"Pos\") # 예측값"
      ],
      "execution_count": null,
      "outputs": [
        {
          "output_type": "stream",
          "text": [
            "/usr/local/lib/python3.6/dist-packages/seaborn/_decorators.py:43: FutureWarning: Pass the following variables as keyword args: x, y. From version 0.12, the only valid positional argument will be `data`, and passing other arguments without an explicit keyword will result in an error or misinterpretation.\n",
            "  FutureWarning\n"
          ],
          "name": "stderr"
        },
        {
          "output_type": "execute_result",
          "data": {
            "text/plain": [
              "<seaborn.axisgrid.FacetGrid at 0x7f2dc7df7668>"
            ]
          },
          "metadata": {
            "tags": []
          },
          "execution_count": 41
        },
        {
          "output_type": "display_data",
          "data": {
            "image/png": "[encoded data removed]",
            "text/plain": [
              "<Figure size 410x360 with 1 Axes>"
            ]
          },
          "metadata": {
            "tags": [],
            "needs_background": "light"
          }
        }
      ]
    },
    {
      "cell_type": "markdown",
      "metadata": {
        "id": "LZpl0McTbwF2"
      },
      "source": [
        "**데이터 다듬기**"
      ]
    },
    {
      "cell_type": "code",
      "metadata": {
        "id": "t_3o6dfxbyIQ",
        "colab": {
          "base_uri": "https://localhost:8080/",
          "height": 198
        },
        "outputId": "a5d15151-7a28-4a12-f574-ff389a05da55"
      },
      "source": [
        "df.drop(['2P', 'AST', 'STL'], axis=1, inplace = True) # 분별력이 없는 특징(feature)을 데이터에서 제거\n",
        "df.head() # df의 상단부 데이터 반환"
      ],
      "execution_count": null,
      "outputs": [
        {
          "output_type": "execute_result",
          "data": {
            "text/html": [
              "<div>\n",
              "<style scoped>\n",
              "    .dataframe tbody tr th:only-of-type {\n",
              "        vertical-align: middle;\n",
              "    }\n",
              "\n",
              "    .dataframe tbody tr th {\n",
              "        vertical-align: top;\n",
              "    }\n",
              "\n",
              "    .dataframe thead th {\n",
              "        text-align: right;\n",
              "    }\n",
              "</style>\n",
              "<table border=\"1\" class=\"dataframe\">\n",
              "  <thead>\n",
              "    <tr style=\"text-align: right;\">\n",
              "      <th></th>\n",
              "      <th>Player</th>\n",
              "      <th>Pos</th>\n",
              "      <th>3P</th>\n",
              "      <th>TRB</th>\n",
              "      <th>BLK</th>\n",
              "    </tr>\n",
              "  </thead>\n",
              "  <tbody>\n",
              "    <tr>\n",
              "      <th>0</th>\n",
              "      <td>Alex Abrines</td>\n",
              "      <td>SG</td>\n",
              "      <td>1.4</td>\n",
              "      <td>1.3</td>\n",
              "      <td>0.1</td>\n",
              "    </tr>\n",
              "    <tr>\n",
              "      <th>1</th>\n",
              "      <td>Steven Adams</td>\n",
              "      <td>C</td>\n",
              "      <td>0.0</td>\n",
              "      <td>7.7</td>\n",
              "      <td>1.0</td>\n",
              "    </tr>\n",
              "    <tr>\n",
              "      <th>2</th>\n",
              "      <td>Alexis Ajinca</td>\n",
              "      <td>C</td>\n",
              "      <td>0.0</td>\n",
              "      <td>4.5</td>\n",
              "      <td>0.6</td>\n",
              "    </tr>\n",
              "    <tr>\n",
              "      <th>3</th>\n",
              "      <td>Chris Andersen</td>\n",
              "      <td>C</td>\n",
              "      <td>0.0</td>\n",
              "      <td>2.6</td>\n",
              "      <td>0.6</td>\n",
              "    </tr>\n",
              "    <tr>\n",
              "      <th>4</th>\n",
              "      <td>Will Barton</td>\n",
              "      <td>SG</td>\n",
              "      <td>1.5</td>\n",
              "      <td>4.3</td>\n",
              "      <td>0.5</td>\n",
              "    </tr>\n",
              "  </tbody>\n",
              "</table>\n",
              "</div>"
            ],
            "text/plain": [
              "           Player Pos   3P  TRB  BLK\n",
              "0    Alex Abrines  SG  1.4  1.3  0.1\n",
              "1    Steven Adams   C  0.0  7.7  1.0\n",
              "2   Alexis Ajinca   C  0.0  4.5  0.6\n",
              "3  Chris Andersen   C  0.0  2.6  0.6\n",
              "4     Will Barton  SG  1.5  4.3  0.5"
            ]
          },
          "metadata": {
            "tags": []
          },
          "execution_count": 42
        }
      ]
    },
    {
      "cell_type": "markdown",
      "metadata": {
        "id": "LFsv77_4btuS"
      },
      "source": [
        "---------------------------------------------------------"
      ]
    },
    {
      "cell_type": "markdown",
      "metadata": {
        "id": "5EIh9jFIcb38"
      },
      "source": [
        "**데이터 나누기**"
      ]
    },
    {
      "cell_type": "code",
      "metadata": {
        "id": "YvMB_03PdkJi",
        "colab": {
          "base_uri": "https://localhost:8080/"
        },
        "outputId": "b161d600-a9b8-4354-c590-d8f18499422d"
      },
      "source": [
        "from sklearn.model_selection import train_test_split # sklearn의 train_test_split을 사용하면 라인 한줄로 손쉽게 데이터를 나눌 수 있음\n",
        "\n",
        "train, test = train_test_split(df, test_size=0.2) # 다듬어진 데이터에서 20%를 테스트 데이터로 분류\n",
        "\n",
        "print(train.shape[0])# 학습 데이터의 갯수 확인\n",
        "print(test.shape[0])# 테스트 데이터의 갯수 확인"
      ],
      "execution_count": null,
      "outputs": [
        {
          "output_type": "stream",
          "text": [
            "80\n",
            "20\n"
          ],
          "name": "stdout"
        }
      ]
    },
    {
      "cell_type": "markdown",
      "metadata": {
        "id": "jWY72IJoecO8"
      },
      "source": [
        "**라이브러리 import**"
      ]
    },
    {
      "cell_type": "code",
      "metadata": {
        "id": "PUTQcIJAN-W-"
      },
      "source": [
        "import pandas as pd\n",
        "import matplotlib.pyplot as plt \n",
        "import seaborn as sns \n",
        "import numpy as np\n",
        "\n",
        "# sklearn 모델의 동일한 결과 출력을 위해 선언합니다.\n",
        "np.random.seed(5) # random seed를 5로 고정하여 반환되는 랜덤값이 변하지 않도록 설정"
      ],
      "execution_count": null,
      "outputs": []
    },
    {
      "cell_type": "markdown",
      "metadata": {
        "id": "P8ZuDeF_SRg4"
      },
      "source": [
        "**최적의 kNN 파라미터 찾기**"
      ]
    },
    {
      "cell_type": "code",
      "metadata": {
        "id": "hhcly1FlSm53"
      },
      "source": [
        "from sklearn.neighbors import KNeighborsClassifier\n",
        "from sklearn.model_selection import cross_val_score\n",
        "\n",
        "max_k_range = train.shape[0] // 2 # find best k, range from 3 to half of the number of data\n",
        "k_list = [] # k_list 선언 및 초기화\n",
        "for i in range(3, max_k_range, 2): # 3 ~ max_k_range 만큼 2씩 더한 값을 i에 대입하며 반복\n",
        "    k_list.append(i) # i 값을 k_list에 추가\n",
        "    #print(i)\n",
        "\n",
        "#k_list"
      ],
      "execution_count": null,
      "outputs": []
    },
    {
      "cell_type": "code",
      "metadata": {
        "id": "-u1EdScyukMn"
      },
      "source": [
        "cross_validation_scores = [] # cross_validation_scores 선언 및 초기화\n",
        "x_train = train[['3P', 'BLK' , 'TRB']] # train에서 3P, BLK, TRB 데이터를 반환하여 x_train에 대입\n",
        "y_train = train[['Pos']] # train에서 Pos 데이터를 반환하여 y_train에 대입\n",
        "\n",
        "#print(x_train)\n",
        "#print(y_train.values)\n",
        "#print(y_train.values.ravel())"
      ],
      "execution_count": null,
      "outputs": []
    },
    {
      "cell_type": "code",
      "metadata": {
        "id": "u2_Rh7YUvHd2",
        "colab": {
          "base_uri": "https://localhost:8080/"
        },
        "outputId": "0732f2dd-94bc-4ba2-9c48-4c22ac8d056b"
      },
      "source": [
        "for k in k_list:   # 10-fold cross validation\n",
        "    knn = KNeighborsClassifier(n_neighbors=k) # neighbor를 k개 같는 KNeighborClssifier 선언\n",
        "    scores = cross_val_score(knn, x_train, y_train.values.ravel(),  # cross validation score 계산 (모델, 입력, 타겟), ravel 다차원배열을 1차원으로\n",
        "                             cv=10, scoring='accuracy') # 10 fold로 설정, score는 accuracy로 계산\n",
        "    cross_validation_scores.append(scores.mean()) # 전체 score의 평균값을 cross_validation_scroe에 추가\n",
        "\n",
        "cross_validation_scores"
      ],
      "execution_count": null,
      "outputs": [
        {
          "output_type": "execute_result",
          "data": {
            "text/plain": [
              "[0.8875,\n",
              " 0.875,\n",
              " 0.875,\n",
              " 0.8625,\n",
              " 0.875,\n",
              " 0.8625,\n",
              " 0.8625,\n",
              " 0.8625,\n",
              " 0.8625,\n",
              " 0.875,\n",
              " 0.875,\n",
              " 0.875,\n",
              " 0.8625,\n",
              " 0.8625,\n",
              " 0.85,\n",
              " 0.85,\n",
              " 0.825,\n",
              " 0.8,\n",
              " 0.8]"
            ]
          },
          "metadata": {
            "tags": []
          },
          "execution_count": 47
        }
      ]
    },
    {
      "cell_type": "markdown",
      "metadata": {
        "id": "Df1JuIthgG_2"
      },
      "source": [
        "**k의 변화에 따른 정확도 시각화**"
      ]
    },
    {
      "cell_type": "code",
      "metadata": {
        "id": "9W21YC-ZSv8e",
        "colab": {
          "base_uri": "https://localhost:8080/",
          "height": 297
        },
        "outputId": "bc289fde-8f06-4d8e-bd92-5fb285984058"
      },
      "source": [
        "plt.plot(k_list, cross_validation_scores) # visualize accuracy according to k\n",
        "plt.xlabel('the number of k') # x축 제목 설정\n",
        "plt.ylabel('Accuracy') # y축 제목 설정\n",
        "plt.show() # 그래프 출력\n",
        "cvs = cross_validation_scores # cvs에 cross_validation_scores 대입\n",
        "k = k_list[cvs.index(max(cross_validation_scores))] # cross_validation_score가 가장 높은 값의 index를 찾아 k_list에서 최적의 k값을 반환하여 대입\n",
        "print(\"The best number of k : \" + str(k) ) # str(k): 정수형 k를 문자열(string)으로 변환"
      ],
      "execution_count": null,
      "outputs": [
        {
          "output_type": "display_data",
          "data": {
            "image/png": "[encoded data removed]",
            "text/plain": [
              "<Figure size 432x288 with 1 Axes>"
            ]
          },
          "metadata": {
            "tags": [],
            "needs_background": "light"
          }
        },
        {
          "output_type": "stream",
          "text": [
            "The best number of k : 3\n"
          ],
          "name": "stdout"
        }
      ]
    },
    {
      "cell_type": "markdown",
      "metadata": {
        "id": "yMKHjGHKgDRn"
      },
      "source": [
        "**k-NN 모델 테스트**"
      ]
    },
    {
      "cell_type": "code",
      "metadata": {
        "id": "3OFixhL6grDU",
        "colab": {
          "base_uri": "https://localhost:8080/",
          "height": 366
        },
        "outputId": "821bb1c0-8979-42f3-cd1c-34a3e46cb96c"
      },
      "source": [
        "from sklearn.metrics import accuracy_score # scikit-learn에서 제공하는 accuracy를 계산하는 라이브러리\n",
        "\n",
        "knn = KNeighborsClassifier(n_neighbors=k) # neighbor의 개수를 k개 갖는 KNeighborClassifier 선언\n",
        "\n",
        "x_train = train[['3P', 'BLK', 'TRB']] # 학습에 사용될 속성을 지정\n",
        "y_train = train[['Pos']] # 선수 포지션을 예측할 값으로 지정\n",
        "\n",
        "knn.fit(x_train, y_train.values.ravel()) # setup knn using train data\n",
        "\n",
        "x_test = test[['3P', 'BLK', 'TRB']] # select data feature to be used for prediction\n",
        "y_test = test[['Pos']] # select target value\n",
        "pred = knn.predict(x_test) # test\n",
        "print(\"accuracy : \"+  # check accuracy\n",
        "          str(accuracy_score(y_test.values.ravel(), pred)) ) # 실제 타겟 데이터와 예측 값을 통해 정확도(accuracy)를 계산하고 이를 문자열(string)으로 변환\n",
        "\n",
        "comparison = pd.DataFrame({'prediction':pred, 'ground_truth':y_test.values.ravel()}) # 예측값과 정답(ground truth) 데이터를 pandas dataframe으로 선언\n",
        "comparison.head(10) # comparison의 상위 10개 데이터를 반환"
      ],
      "execution_count": null,
      "outputs": [
        {
          "output_type": "stream",
          "text": [
            "accuracy : 0.95\n"
          ],
          "name": "stdout"
        },
        {
          "output_type": "execute_result",
          "data": {
            "text/html": [
              "<div>\n",
              "<style scoped>\n",
              "    .dataframe tbody tr th:only-of-type {\n",
              "        vertical-align: middle;\n",
              "    }\n",
              "\n",
              "    .dataframe tbody tr th {\n",
              "        vertical-align: top;\n",
              "    }\n",
              "\n",
              "    .dataframe thead th {\n",
              "        text-align: right;\n",
              "    }\n",
              "</style>\n",
              "<table border=\"1\" class=\"dataframe\">\n",
              "  <thead>\n",
              "    <tr style=\"text-align: right;\">\n",
              "      <th></th>\n",
              "      <th>prediction</th>\n",
              "      <th>ground_truth</th>\n",
              "    </tr>\n",
              "  </thead>\n",
              "  <tbody>\n",
              "    <tr>\n",
              "      <th>0</th>\n",
              "      <td>C</td>\n",
              "      <td>C</td>\n",
              "    </tr>\n",
              "    <tr>\n",
              "      <th>1</th>\n",
              "      <td>SG</td>\n",
              "      <td>SG</td>\n",
              "    </tr>\n",
              "    <tr>\n",
              "      <th>2</th>\n",
              "      <td>C</td>\n",
              "      <td>C</td>\n",
              "    </tr>\n",
              "    <tr>\n",
              "      <th>3</th>\n",
              "      <td>SG</td>\n",
              "      <td>SG</td>\n",
              "    </tr>\n",
              "    <tr>\n",
              "      <th>4</th>\n",
              "      <td>C</td>\n",
              "      <td>C</td>\n",
              "    </tr>\n",
              "    <tr>\n",
              "      <th>5</th>\n",
              "      <td>C</td>\n",
              "      <td>C</td>\n",
              "    </tr>\n",
              "    <tr>\n",
              "      <th>6</th>\n",
              "      <td>C</td>\n",
              "      <td>C</td>\n",
              "    </tr>\n",
              "    <tr>\n",
              "      <th>7</th>\n",
              "      <td>SG</td>\n",
              "      <td>SG</td>\n",
              "    </tr>\n",
              "    <tr>\n",
              "      <th>8</th>\n",
              "      <td>SG</td>\n",
              "      <td>SG</td>\n",
              "    </tr>\n",
              "    <tr>\n",
              "      <th>9</th>\n",
              "      <td>C</td>\n",
              "      <td>C</td>\n",
              "    </tr>\n",
              "  </tbody>\n",
              "</table>\n",
              "</div>"
            ],
            "text/plain": [
              "  prediction ground_truth\n",
              "0          C            C\n",
              "1         SG           SG\n",
              "2          C            C\n",
              "3         SG           SG\n",
              "4          C            C\n",
              "5          C            C\n",
              "6          C            C\n",
              "7         SG           SG\n",
              "8         SG           SG\n",
              "9          C            C"
            ]
          },
          "metadata": {
            "tags": []
          },
          "execution_count": 49
        }
      ]
    },
    {
      "cell_type": "markdown",
      "metadata": {
        "id": "LYfKLPaBqeoO"
      },
      "source": [
        "**이번 강의도 수고 많으셨습니다. 감사합니다.**"
      ]
    }
  ]
}